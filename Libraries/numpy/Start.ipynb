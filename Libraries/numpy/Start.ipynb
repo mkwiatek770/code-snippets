{
 "cells": [
  {
   "cell_type": "markdown",
   "metadata": {},
   "source": [
    "# The Basics\n",
    "- store data in multidimensional arrays\n",
    "- efficient, fixed types, numpy uses less bytes of memory\n",
    "- no type checking when iterating through array\n",
    "- contigous memory (SIMD Vector Processing allowed), Effective Cache Utilization\n",
    "\n",
    "Using\n",
    "- MATLAB replacement\n",
    "- Used as a backend in pandas library\n",
    "- Machine Learning (tensors)"
   ]
  },
  {
   "cell_type": "code",
   "execution_count": 1,
   "metadata": {},
   "outputs": [],
   "source": [
    "import numpy as np"
   ]
  },
  {
   "cell_type": "code",
   "execution_count": null,
   "metadata": {},
   "outputs": [],
   "source": [
    "a = np.array"
   ]
  }
 ],
 "metadata": {
  "kernelspec": {
   "display_name": "Python 3",
   "language": "python",
   "name": "python3"
  },
  "language_info": {
   "codemirror_mode": {
    "name": "ipython",
    "version": 3
   },
   "file_extension": ".py",
   "mimetype": "text/x-python",
   "name": "python",
   "nbconvert_exporter": "python",
   "pygments_lexer": "ipython3",
   "version": "3.6.9"
  }
 },
 "nbformat": 4,
 "nbformat_minor": 2
}
