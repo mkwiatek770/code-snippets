{
 "cells": [
  {
   "cell_type": "markdown",
   "metadata": {},
   "source": [
    "# The Basics\n",
    "- store data in multidimensional arrays\n",
    "- efficient, fixed types, numpy uses less bytes of memory\n",
    "- no type checking when iterating through array\n",
    "- contigous memory (SIMD Vector Processing allowed), Effective Cache Utilization\n",
    "\n",
    "Using\n",
    "- MATLAB replacement\n",
    "- Used as a backend in pandas library\n",
    "- Machine Learning (tensors)"
   ]
  },
  {
   "cell_type": "code",
   "execution_count": 1,
   "metadata": {},
   "outputs": [],
   "source": [
    "import numpy as np"
   ]
  },
  {
   "cell_type": "code",
   "execution_count": 18,
   "metadata": {},
   "outputs": [
    {
     "name": "stdout",
     "output_type": "stream",
     "text": [
      "[1 2 3]\n",
      "[[1]\n",
      " [2]\n",
      " [3]]\n",
      "Array b has 2 dimensions\n",
      "(3, 1)\n",
      "int64\n",
      "int16\n",
      "2\n",
      "6\n",
      "6\n"
     ]
    }
   ],
   "source": [
    "a = np.array([1, 2, 3])\n",
    "print(a)\n",
    "\n",
    "# 2D array\n",
    "b = np.array([[1], [2], [3]])\n",
    "print(b)\n",
    "\n",
    "# Get dimensions\n",
    "print(\"Array b has\", b.ndim, \"dimensions\")\n",
    "\n",
    "# Get shape rows X cols\n",
    "print(b.shape)\n",
    "\n",
    "# Get type\n",
    "print(a.dtype)\n",
    "\n",
    "# Specify type\n",
    "c = np.array([1, 2, 3], dtype='int16')\n",
    "print(c.dtype)\n",
    "\n",
    "# Get size\n",
    "print(c.itemsize)\n",
    " \n",
    "# Get total size\n",
    "print(c.size * c.itemsize)\n",
    "print(c.nbytes)\n",
    "\n"
   ]
  },
  {
   "cell_type": "markdown",
   "metadata": {},
   "source": [
    "# Accessing/Changing specific elements rows, columns etc."
   ]
  },
  {
   "cell_type": "code",
   "execution_count": 40,
   "metadata": {},
   "outputs": [
    {
     "name": "stdout",
     "output_type": "stream",
     "text": [
      "5\n",
      "[ 6  7  8  9 10]\n",
      "[3 8]\n",
      "[1 3 5]\n",
      "[[ 1  2 -1  4  5]\n",
      " [ 6  7 -1  9 11]]\n",
      "2\n"
     ]
    }
   ],
   "source": [
    "a = np.array([[1, 2, 3, 4, 5], [6, 7, 8, 9, 10]])\n",
    "\n",
    "# Get specific element\n",
    "print(a[0,-1])\n",
    "\n",
    "# Get specific row\n",
    "print(a[1, :])\n",
    "\n",
    "# Get specific column\n",
    "print(a[:, 2])\n",
    "\n",
    "# Getting little more fancy [startindex:endindex:stepsize]\n",
    "print(a[0, 0:5:2])\n",
    "\n",
    "# change value\n",
    "a[1, 4] = 11\n",
    "\n",
    "# Change whole column\n",
    "a[:, 2] = [-1, -1]\n",
    "print(a)\n",
    "\n",
    "\n",
    "# 3D example\n",
    "b = np.array([[[1, 2],[3, 4]],[[5, 6], [7, 8]]])\n",
    "print(b[0,0,1])\n",
    "\n",
    "b[0,0,:] = [-1, -1]"
   ]
  },
  {
   "cell_type": "markdown",
   "metadata": {},
   "source": [
    "# Initializing Different Types of Arrays"
   ]
  },
  {
   "cell_type": "code",
   "execution_count": 79,
   "metadata": {},
   "outputs": [
    {
     "name": "stdout",
     "output_type": "stream",
     "text": [
      "(1, 9)\n"
     ]
    }
   ],
   "source": [
    "# all 0s matrix\n",
    "a = np.zeros((5, 5))\n",
    "\n",
    "# all 1s matrix\n",
    "b = np.ones((1, 5), dtype='int16')\n",
    "\n",
    "# any other number\n",
    "c = np.full((2, 2), 99, dtype='float32')\n",
    "\n",
    "# any other number full_like\n",
    "d = np.full_like(c, 4)\n",
    "\n",
    "# Random decimal numbers [0, 1]\n",
    "e = np.random.rand(4, 2, 3) # <-- shapes\n",
    "\n",
    "# Random integer values\n",
    "f = np.random.randint(0, 2, size=(2, 2)) # start, stop - 1, shape\n",
    "\n",
    "# Identity matrix\n",
    "g = np.identity(7)\n",
    "\n",
    "# repeat array\n",
    "arr = np.array([[1, 2, 3]])\n",
    "r1 = np.repeat(arr, 3, axis=1)\n",
    "print(r1.shape)"
   ]
  },
  {
   "cell_type": "code",
   "execution_count": 86,
   "metadata": {},
   "outputs": [],
   "source": [
    "# Copying array\n",
    "a = np.array([1, 2, 3])\n",
    "b = a.copy()\n",
    "b[1] = -1\n",
    "\n",
    "assert a[1] == 2"
   ]
  },
  {
   "cell_type": "markdown",
   "metadata": {},
   "source": [
    "# Mathematics"
   ]
  },
  {
   "cell_type": "code",
   "execution_count": 98,
   "metadata": {},
   "outputs": [
    {
     "name": "stdout",
     "output_type": "stream",
     "text": [
      "[ 6 12 18 24]\n",
      "[0.16666667 0.33333333 0.5        0.66666667]\n",
      "[3 4 5 6]\n",
      "[ 1  4  9 16]\n",
      "[ 0.84147098  0.90929743  0.14112001 -0.7568025 ]\n"
     ]
    }
   ],
   "source": [
    "a = np.array([1, 2, 3, 4])\n",
    "b = np.array([5, 3, 2, 1])\n",
    "\n",
    "\n",
    "# Scalar operations\n",
    "print(a * 6)\n",
    "print(a / 6)\n",
    "print(a + 2) # add 2 to each element\n",
    "print(a ** 2) # square each element\n",
    "print(np.sin(a)) # sin of all values\n"
   ]
  },
  {
   "cell_type": "markdown",
   "metadata": {},
   "source": [
    "## Linear algebra"
   ]
  },
  {
   "cell_type": "code",
   "execution_count": 110,
   "metadata": {},
   "outputs": [
    {
     "name": "stdout",
     "output_type": "stream",
     "text": [
      "[[6 6]\n",
      " [6 6]]\n"
     ]
    },
    {
     "data": {
      "text/plain": [
       "array([[-0.33333333,  0.33333333, -0.66666667],\n",
       "       [ 0.5       ,  0.        ,  0.5       ],\n",
       "       [-0.33333333,  0.33333333,  0.33333333]])"
      ]
     },
     "execution_count": 110,
     "metadata": {},
     "output_type": "execute_result"
    }
   ],
   "source": [
    "a = np.full((2, 3), 2)\n",
    "b = np.full((3, 2), 1)\n",
    "\n",
    "print(np.matmul(a, b))\n",
    "\n",
    "# Find determinant\n",
    "c = np.identity(3)\n",
    "np.linalg.det(c)\n",
    "\n",
    "arr = np.ones((3, 3), dtype=\"int16\")\n",
    "arr[0] = [1, 2, -1]\n",
    "arr[1] = [2, 2, 1]\n",
    "arr[2] = [-1, 0, 1]\n",
    "arr\n",
    "\n",
    "# Inverse array\n",
    "np.linalg.inv(arr)"
   ]
  },
  {
   "cell_type": "markdown",
   "metadata": {},
   "source": [
    "# Statistics"
   ]
  },
  {
   "cell_type": "code",
   "execution_count": 114,
   "metadata": {},
   "outputs": [
    {
     "name": "stdout",
     "output_type": "stream",
     "text": [
      "[1 4]\n",
      "6\n"
     ]
    },
    {
     "data": {
      "text/plain": [
       "21"
      ]
     },
     "execution_count": 114,
     "metadata": {},
     "output_type": "execute_result"
    }
   ],
   "source": [
    "stats = np.array([[1, 2, 3], [4, 5, 6]])\n",
    "\n",
    "print(np.min(stats, axis=1))\n",
    "print(np.max(stats))\n",
    "\n",
    "np.sum(stats, axis=1) \n",
    "np.sum(stats)"
   ]
  },
  {
   "cell_type": "markdown",
   "metadata": {},
   "source": [
    "# Reorganizing arrays"
   ]
  },
  {
   "cell_type": "code",
   "execution_count": 122,
   "metadata": {},
   "outputs": [
    {
     "data": {
      "text/plain": [
       "array([[1., 1., 1., 1., 0., 0.],\n",
       "       [1., 1., 1., 1., 0., 0.]])"
      ]
     },
     "execution_count": 122,
     "metadata": {},
     "output_type": "execute_result"
    }
   ],
   "source": [
    "before = np.array([[1, 2, 3], [4, 5, 6]])\n",
    "\n",
    "after = before.reshape((6, 1))\n",
    "\n",
    "# vertically stacking vectors\n",
    "v1 = np.array([1, 2, 3, 4])\n",
    "v2 = np.array([5, 6, 7, 8])\n",
    "\n",
    "new = np.vstack([v1, v2, v1])\n",
    "\n",
    "# Horizontal stacking\n",
    "h1 = np.ones((2, 4))\n",
    "h2 = np.zeros((2, 2))\n",
    "\n",
    "np.hstack([h1, h2])\n",
    "\n"
   ]
  },
  {
   "cell_type": "markdown",
   "metadata": {},
   "source": [
    "# Miscellaneous"
   ]
  },
  {
   "cell_type": "code",
   "execution_count": 158,
   "metadata": {},
   "outputs": [
    {
     "name": "stdout",
     "output_type": "stream",
     "text": [
      "[[False False False False  True  True False False False False False False\n",
      "  False False False False False False]\n",
      " [False False False False  True  True False  True False False False False\n",
      "  False False False False False False]\n",
      " [False False False False  True False False False  True False False False\n",
      "  False False False False  True  True]]\n",
      "[196  75 766  75  55 999  78  76  88]\n",
      "[[1. 1. 1. 1. 1. 1.]\n",
      " [1. 1. 1. 1. 1. 1.]\n",
      " [1. 1. 1. 1. 1. 1.]\n",
      " [1. 1. 1. 1. 1. 1.]\n",
      " [1. 1. 1. 1. 1. 1.]]\n"
     ]
    }
   ],
   "source": [
    "# Load data from file\n",
    "url = 'https://raw.githubusercontent.com/KeithGalli/NumPy/master/data.txt'\n",
    "array = np.genfromtxt(url, delimiter=',')\n",
    "# convert type of data, make copy\n",
    "array = array.astype('int32')\n",
    "\n",
    "# Advanced indexing & Boolean masking\n",
    "print(array > 50)\n",
    "print(array[array > 50])\n",
    "\n",
    "# We can index with a list in NumPy\n",
    "a = np.array([1, 2, 3, 4, 5])\n",
    "a[[1,2,4]]\n",
    "\n",
    "# check if columns has any values > 50\n",
    "np.any(array > 50, axis=0)\n",
    "\n",
    "np.all(array != 50, axis=1)\n",
    "\n",
    "# Multiple conditions\n",
    "~((array > 50) & (array < 100))\n",
    "\n"
   ]
  },
  {
   "cell_type": "code",
   "execution_count": null,
   "metadata": {},
   "outputs": [],
   "source": []
  }
 ],
 "metadata": {
  "kernelspec": {
   "display_name": "Python 3",
   "language": "python",
   "name": "python3"
  },
  "language_info": {
   "codemirror_mode": {
    "name": "ipython",
    "version": 3
   },
   "file_extension": ".py",
   "mimetype": "text/x-python",
   "name": "python",
   "nbconvert_exporter": "python",
   "pygments_lexer": "ipython3",
   "version": "3.6.9"
  }
 },
 "nbformat": 4,
 "nbformat_minor": 2
}
