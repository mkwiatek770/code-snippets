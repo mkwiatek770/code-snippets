{
 "cells": [
  {
   "cell_type": "markdown",
   "metadata": {},
   "source": [
    "# The Basics\n",
    "- store data in multidimensional arrays\n",
    "- efficient, fixed types, numpy uses less bytes of memory\n",
    "- no type checking when iterating through array\n",
    "- contigous memory (SIMD Vector Processing allowed), Effective Cache Utilization\n",
    "\n",
    "Using\n",
    "- MATLAB replacement\n",
    "- Used as a backend in pandas library\n",
    "- Machine Learning (tensors)"
   ]
  },
  {
   "cell_type": "code",
   "execution_count": 1,
   "metadata": {},
   "outputs": [],
   "source": [
    "import numpy as np"
   ]
  },
  {
   "cell_type": "code",
   "execution_count": 18,
   "metadata": {},
   "outputs": [
    {
     "name": "stdout",
     "output_type": "stream",
     "text": [
      "[1 2 3]\n",
      "[[1]\n",
      " [2]\n",
      " [3]]\n",
      "Array b has 2 dimensions\n",
      "(3, 1)\n",
      "int64\n",
      "int16\n",
      "2\n",
      "6\n",
      "6\n"
     ]
    }
   ],
   "source": [
    "a = np.array([1, 2, 3])\n",
    "print(a)\n",
    "\n",
    "# 2D array\n",
    "b = np.array([[1], [2], [3]])\n",
    "print(b)\n",
    "\n",
    "# Get dimensions\n",
    "print(\"Array b has\", b.ndim, \"dimensions\")\n",
    "\n",
    "# Get shape rows X cols\n",
    "print(b.shape)\n",
    "\n",
    "# Get type\n",
    "print(a.dtype)\n",
    "\n",
    "# Specify type\n",
    "c = np.array([1, 2, 3], dtype='int16')\n",
    "print(c.dtype)\n",
    "\n",
    "# Get size\n",
    "print(c.itemsize)\n",
    " \n",
    "# Get total size\n",
    "print(c.size * c.itemsize)\n",
    "print(c.nbytes)\n",
    "\n"
   ]
  },
  {
   "cell_type": "markdown",
   "metadata": {},
   "source": [
    "# Accessing/Changing specific elements rows, columns etc."
   ]
  },
  {
   "cell_type": "code",
   "execution_count": 40,
   "metadata": {},
   "outputs": [
    {
     "name": "stdout",
     "output_type": "stream",
     "text": [
      "5\n",
      "[ 6  7  8  9 10]\n",
      "[3 8]\n",
      "[1 3 5]\n",
      "[[ 1  2 -1  4  5]\n",
      " [ 6  7 -1  9 11]]\n",
      "2\n"
     ]
    }
   ],
   "source": [
    "a = np.array([[1, 2, 3, 4, 5], [6, 7, 8, 9, 10]])\n",
    "\n",
    "# Get specific element\n",
    "print(a[0,-1])\n",
    "\n",
    "# Get specific row\n",
    "print(a[1, :])\n",
    "\n",
    "# Get specific column\n",
    "print(a[:, 2])\n",
    "\n",
    "# Getting little more fancy [startindex:endindex:stepsize]\n",
    "print(a[0, 0:5:2])\n",
    "\n",
    "# change value\n",
    "a[1, 4] = 11\n",
    "\n",
    "# Change whole column\n",
    "a[:, 2] = [-1, -1]\n",
    "print(a)\n",
    "\n",
    "\n",
    "# 3D example\n",
    "b = np.array([[[1, 2],[3, 4]],[[5, 6], [7, 8]]])\n",
    "print(b[0,0,1])\n",
    "\n",
    "b[0,0,:] = [-1, -1]"
   ]
  },
  {
   "cell_type": "code",
   "execution_count": null,
   "metadata": {},
   "outputs": [],
   "source": []
  }
 ],
 "metadata": {
  "kernelspec": {
   "display_name": "Python 3",
   "language": "python",
   "name": "python3"
  },
  "language_info": {
   "codemirror_mode": {
    "name": "ipython",
    "version": 3
   },
   "file_extension": ".py",
   "mimetype": "text/x-python",
   "name": "python",
   "nbconvert_exporter": "python",
   "pygments_lexer": "ipython3",
   "version": "3.6.9"
  }
 },
 "nbformat": 4,
 "nbformat_minor": 2
}
