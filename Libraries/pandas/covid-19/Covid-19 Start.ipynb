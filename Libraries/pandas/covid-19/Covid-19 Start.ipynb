{
 "cells": [
  {
   "cell_type": "code",
   "execution_count": 23,
   "metadata": {},
   "outputs": [],
   "source": [
    "import os\n",
    "import re\n",
    "import json\n",
    "import sys\n",
    "import pandas as pd\n",
    "from tqdm import tqdm\n",
    "from tqdm._tqdm_notebook import tqdm_notebook\n",
    "tqdm_notebook.pandas()"
   ]
  },
  {
   "cell_type": "code",
   "execution_count": 2,
   "metadata": {},
   "outputs": [],
   "source": [
    "dirs = [\"biorxiv_medrxiv\", \"comm_use_subset\", \"noncomm_use_subset\"]\n",
    "articles = []"
   ]
  },
  {
   "cell_type": "code",
   "execution_count": 3,
   "metadata": {},
   "outputs": [
    {
     "name": "stderr",
     "output_type": "stream",
     "text": [
      "100%|██████████| 1625/1625 [00:01<00:00, 1588.84it/s]\n"
     ]
    }
   ],
   "source": [
    "path = f\"kaggle_data/{dirs[0]}/{dirs[0]}/pdf_json\"\n",
    "for file_ in tqdm(os.listdir(path)):\n",
    "    with open(f\"{path}/{file_}\") as f:\n",
    "        data = json.load(f)\n",
    "\n",
    "        paper_id = data['paper_id']\n",
    "        title = data['metadata']['title']\n",
    "\n",
    "        full_abstract = \"\"\n",
    "        for part in data['abstract']:\n",
    "            full_abstract += part['text'] + \"\\n\"\n",
    "\n",
    "        full_text = \"\"\n",
    "        for text_part in data[\"body_text\"]:\n",
    "            full_text += text_part[\"text\"] + \"\\n\\n\"\n",
    "        \n",
    "        articles.append((paper_id, title, full_abstract, full_text))"
   ]
  },
  {
   "cell_type": "code",
   "execution_count": 4,
   "metadata": {},
   "outputs": [],
   "source": [
    "df = pd.DataFrame(articles, columns=['Paper ID', 'Title', 'Abstract', 'Text'])"
   ]
  },
  {
   "cell_type": "code",
   "execution_count": 5,
   "metadata": {},
   "outputs": [
    {
     "data": {
      "text/html": [
       "<div>\n",
       "<style scoped>\n",
       "    .dataframe tbody tr th:only-of-type {\n",
       "        vertical-align: middle;\n",
       "    }\n",
       "\n",
       "    .dataframe tbody tr th {\n",
       "        vertical-align: top;\n",
       "    }\n",
       "\n",
       "    .dataframe thead th {\n",
       "        text-align: right;\n",
       "    }\n",
       "</style>\n",
       "<table border=\"1\" class=\"dataframe\">\n",
       "  <thead>\n",
       "    <tr style=\"text-align: right;\">\n",
       "      <th></th>\n",
       "      <th>Paper ID</th>\n",
       "      <th>Title</th>\n",
       "      <th>Abstract</th>\n",
       "      <th>Text</th>\n",
       "    </tr>\n",
       "  </thead>\n",
       "  <tbody>\n",
       "    <tr>\n",
       "      <th>0</th>\n",
       "      <td>7fdd33661d188e3ea250e99f2752d705b5467ef9</td>\n",
       "      <td>Glycoinformatics approach for identifying targ...</td>\n",
       "      <td>COVID-19 outbreak is still threatening the pub...</td>\n",
       "      <td>The coronavirus spike protein (S) plays a key ...</td>\n",
       "    </tr>\n",
       "    <tr>\n",
       "      <th>1</th>\n",
       "      <td>ffbd7555a337706238c211197b221795e4e35146</td>\n",
       "      <td>Title: Estimation of COVID-2019 burden and pot...</td>\n",
       "      <td></td>\n",
       "      <td>CC-BY-NC-ND 4.0 International license It is ma...</td>\n",
       "    </tr>\n",
       "    <tr>\n",
       "      <th>2</th>\n",
       "      <td>9a0c89a9b8ff3969d97b7cc4245489ff69f3a615</td>\n",
       "      <td>Development and external validation of a progn...</td>\n",
       "      <td>Since the outbreak of COVID-19, there has been...</td>\n",
       "      <td>Background: COVID-19 pandemic has developed ra...</td>\n",
       "    </tr>\n",
       "    <tr>\n",
       "      <th>3</th>\n",
       "      <td>08911cdc65e71e6398ca79b46806e6c8b2b730ae</td>\n",
       "      <td>Epigenetic dysregulation of ACE2 and interfero...</td>\n",
       "      <td>medRxiv preprint immunology 2015; 156(1): 19-2...</td>\n",
       "      <td>Infection caused by SARS-CoV-2 can result in s...</td>\n",
       "    </tr>\n",
       "    <tr>\n",
       "      <th>4</th>\n",
       "      <td>bdaa40d95b82093f60a1c5ac8b798d67cef3a52b</td>\n",
       "      <td>A SARS-CoV-2 Vaccination Strategy Focused on P...</td>\n",
       "      <td>Here we propose a vaccination strategy for SAR...</td>\n",
       "      <td>The current SARS-CoV-2 pandemic has precipitat...</td>\n",
       "    </tr>\n",
       "  </tbody>\n",
       "</table>\n",
       "</div>"
      ],
      "text/plain": [
       "                                   Paper ID  \\\n",
       "0  7fdd33661d188e3ea250e99f2752d705b5467ef9   \n",
       "1  ffbd7555a337706238c211197b221795e4e35146   \n",
       "2  9a0c89a9b8ff3969d97b7cc4245489ff69f3a615   \n",
       "3  08911cdc65e71e6398ca79b46806e6c8b2b730ae   \n",
       "4  bdaa40d95b82093f60a1c5ac8b798d67cef3a52b   \n",
       "\n",
       "                                               Title  \\\n",
       "0  Glycoinformatics approach for identifying targ...   \n",
       "1  Title: Estimation of COVID-2019 burden and pot...   \n",
       "2  Development and external validation of a progn...   \n",
       "3  Epigenetic dysregulation of ACE2 and interfero...   \n",
       "4  A SARS-CoV-2 Vaccination Strategy Focused on P...   \n",
       "\n",
       "                                            Abstract  \\\n",
       "0  COVID-19 outbreak is still threatening the pub...   \n",
       "1                                                      \n",
       "2  Since the outbreak of COVID-19, there has been...   \n",
       "3  medRxiv preprint immunology 2015; 156(1): 19-2...   \n",
       "4  Here we propose a vaccination strategy for SAR...   \n",
       "\n",
       "                                                Text  \n",
       "0  The coronavirus spike protein (S) plays a key ...  \n",
       "1  CC-BY-NC-ND 4.0 International license It is ma...  \n",
       "2  Background: COVID-19 pandemic has developed ra...  \n",
       "3  Infection caused by SARS-CoV-2 can result in s...  \n",
       "4  The current SARS-CoV-2 pandemic has precipitat...  "
      ]
     },
     "execution_count": 5,
     "metadata": {},
     "output_type": "execute_result"
    }
   ],
   "source": [
    "df.head()"
   ]
  },
  {
   "cell_type": "markdown",
   "metadata": {},
   "source": [
    "## Find all articles where 'incubator' word was used "
   ]
  },
  {
   "cell_type": "code",
   "execution_count": 35,
   "metadata": {},
   "outputs": [
    {
     "data": {
      "application/vnd.jupyter.widget-view+json": {
       "model_id": "9b8fa9e1549c4e2fb4555f2f54005660",
       "version_major": 2,
       "version_minor": 0
      },
      "text/plain": [
       "HBox(children=(IntProgress(value=0, max=30), HTML(value='')))"
      ]
     },
     "metadata": {},
     "output_type": "display_data"
    }
   ],
   "source": [
    "df_incubator = df[df['Text'].str.contains('incubator', flags=re.I)].copy()\n",
    "\n",
    "def how_many_mentioned(text: str, keyword=\"incubator\"):\n",
    "    counter = 0\n",
    "    for word in text.split():\n",
    "        if word == keyword:\n",
    "            counter += 1\n",
    "    return counter\n",
    "\n",
    "df_incubator[\"Mentioned\"] = df_incubator[\"Text\"].progress_apply(lambda text: text.lower().count(\"incubator\"))"
   ]
  },
  {
   "cell_type": "markdown",
   "metadata": {},
   "source": [
    "## Count words in abstract and title"
   ]
  },
  {
   "cell_type": "code",
   "execution_count": 38,
   "metadata": {},
   "outputs": [
    {
     "data": {
      "text/html": [
       "<div>\n",
       "<style scoped>\n",
       "    .dataframe tbody tr th:only-of-type {\n",
       "        vertical-align: middle;\n",
       "    }\n",
       "\n",
       "    .dataframe tbody tr th {\n",
       "        vertical-align: top;\n",
       "    }\n",
       "\n",
       "    .dataframe thead th {\n",
       "        text-align: right;\n",
       "    }\n",
       "</style>\n",
       "<table border=\"1\" class=\"dataframe\">\n",
       "  <thead>\n",
       "    <tr style=\"text-align: right;\">\n",
       "      <th></th>\n",
       "      <th>Paper ID</th>\n",
       "      <th>Title</th>\n",
       "      <th>Abstract</th>\n",
       "      <th>Text</th>\n",
       "      <th>Text Word Count</th>\n",
       "      <th>Abstract Word Count</th>\n",
       "      <th>Text Unique Word Count</th>\n",
       "    </tr>\n",
       "  </thead>\n",
       "  <tbody>\n",
       "    <tr>\n",
       "      <th>0</th>\n",
       "      <td>7fdd33661d188e3ea250e99f2752d705b5467ef9</td>\n",
       "      <td>Glycoinformatics approach for identifying targ...</td>\n",
       "      <td>COVID-19 outbreak is still threatening the pub...</td>\n",
       "      <td>The coronavirus spike protein (S) plays a key ...</td>\n",
       "      <td>1876</td>\n",
       "      <td>175</td>\n",
       "      <td>660</td>\n",
       "    </tr>\n",
       "    <tr>\n",
       "      <th>1</th>\n",
       "      <td>ffbd7555a337706238c211197b221795e4e35146</td>\n",
       "      <td>Title: Estimation of COVID-2019 burden and pot...</td>\n",
       "      <td></td>\n",
       "      <td>CC-BY-NC-ND 4.0 International license It is ma...</td>\n",
       "      <td>982</td>\n",
       "      <td>0</td>\n",
       "      <td>375</td>\n",
       "    </tr>\n",
       "    <tr>\n",
       "      <th>2</th>\n",
       "      <td>9a0c89a9b8ff3969d97b7cc4245489ff69f3a615</td>\n",
       "      <td>Development and external validation of a progn...</td>\n",
       "      <td>Since the outbreak of COVID-19, there has been...</td>\n",
       "      <td>Background: COVID-19 pandemic has developed ra...</td>\n",
       "      <td>3711</td>\n",
       "      <td>237</td>\n",
       "      <td>1166</td>\n",
       "    </tr>\n",
       "    <tr>\n",
       "      <th>3</th>\n",
       "      <td>08911cdc65e71e6398ca79b46806e6c8b2b730ae</td>\n",
       "      <td>Epigenetic dysregulation of ACE2 and interfero...</td>\n",
       "      <td>medRxiv preprint immunology 2015; 156(1): 19-2...</td>\n",
       "      <td>Infection caused by SARS-CoV-2 can result in s...</td>\n",
       "      <td>1660</td>\n",
       "      <td>50</td>\n",
       "      <td>533</td>\n",
       "    </tr>\n",
       "    <tr>\n",
       "      <th>4</th>\n",
       "      <td>bdaa40d95b82093f60a1c5ac8b798d67cef3a52b</td>\n",
       "      <td>A SARS-CoV-2 Vaccination Strategy Focused on P...</td>\n",
       "      <td>Here we propose a vaccination strategy for SAR...</td>\n",
       "      <td>The current SARS-CoV-2 pandemic has precipitat...</td>\n",
       "      <td>4175</td>\n",
       "      <td>151</td>\n",
       "      <td>1120</td>\n",
       "    </tr>\n",
       "  </tbody>\n",
       "</table>\n",
       "</div>"
      ],
      "text/plain": [
       "                                   Paper ID  \\\n",
       "0  7fdd33661d188e3ea250e99f2752d705b5467ef9   \n",
       "1  ffbd7555a337706238c211197b221795e4e35146   \n",
       "2  9a0c89a9b8ff3969d97b7cc4245489ff69f3a615   \n",
       "3  08911cdc65e71e6398ca79b46806e6c8b2b730ae   \n",
       "4  bdaa40d95b82093f60a1c5ac8b798d67cef3a52b   \n",
       "\n",
       "                                               Title  \\\n",
       "0  Glycoinformatics approach for identifying targ...   \n",
       "1  Title: Estimation of COVID-2019 burden and pot...   \n",
       "2  Development and external validation of a progn...   \n",
       "3  Epigenetic dysregulation of ACE2 and interfero...   \n",
       "4  A SARS-CoV-2 Vaccination Strategy Focused on P...   \n",
       "\n",
       "                                            Abstract  \\\n",
       "0  COVID-19 outbreak is still threatening the pub...   \n",
       "1                                                      \n",
       "2  Since the outbreak of COVID-19, there has been...   \n",
       "3  medRxiv preprint immunology 2015; 156(1): 19-2...   \n",
       "4  Here we propose a vaccination strategy for SAR...   \n",
       "\n",
       "                                                Text  Text Word Count  \\\n",
       "0  The coronavirus spike protein (S) plays a key ...             1876   \n",
       "1  CC-BY-NC-ND 4.0 International license It is ma...              982   \n",
       "2  Background: COVID-19 pandemic has developed ra...             3711   \n",
       "3  Infection caused by SARS-CoV-2 can result in s...             1660   \n",
       "4  The current SARS-CoV-2 pandemic has precipitat...             4175   \n",
       "\n",
       "   Abstract Word Count  Text Unique Word Count  \n",
       "0                  175                     660  \n",
       "1                    0                     375  \n",
       "2                  237                    1166  \n",
       "3                   50                     533  \n",
       "4                  151                    1120  "
      ]
     },
     "execution_count": 38,
     "metadata": {},
     "output_type": "execute_result"
    }
   ],
   "source": [
    "df[\"Text Word Count\"] = df[\"Text\"].apply(lambda x: len(x.strip().split()))\n",
    "df[\"Abstract Word Count\"] = df[\"Abstract\"].apply(lambda x: len(x.strip().split()))\n",
    "df[\"Text Unique Word Count\"] = df[\"Text\"].apply(lambda x: len(set(x.strip().split())))\n",
    "\n",
    "df.head()"
   ]
  },
  {
   "cell_type": "code",
   "execution_count": null,
   "metadata": {},
   "outputs": [],
   "source": []
  },
  {
   "cell_type": "code",
   "execution_count": null,
   "metadata": {},
   "outputs": [],
   "source": []
  },
  {
   "cell_type": "code",
   "execution_count": null,
   "metadata": {},
   "outputs": [],
   "source": []
  },
  {
   "cell_type": "code",
   "execution_count": null,
   "metadata": {},
   "outputs": [],
   "source": []
  },
  {
   "cell_type": "code",
   "execution_count": null,
   "metadata": {},
   "outputs": [],
   "source": []
  },
  {
   "cell_type": "code",
   "execution_count": null,
   "metadata": {},
   "outputs": [],
   "source": []
  }
 ],
 "metadata": {
  "kernelspec": {
   "display_name": "Python 3",
   "language": "python",
   "name": "python3"
  },
  "language_info": {
   "codemirror_mode": {
    "name": "ipython",
    "version": 3
   },
   "file_extension": ".py",
   "mimetype": "text/x-python",
   "name": "python",
   "nbconvert_exporter": "python",
   "pygments_lexer": "ipython3",
   "version": "3.6.9"
  }
 },
 "nbformat": 4,
 "nbformat_minor": 2
}
